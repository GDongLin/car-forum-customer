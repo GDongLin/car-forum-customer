{
 "cells": [
  {
   "cell_type": "code",
   "execution_count": 1,
   "metadata": {},
   "outputs": [],
   "source": [
    "import pandas as pd\n",
    "import os\n",
    "root_path='/media/data/CCF_data/car_forum_data'"
   ]
  },
  {
   "cell_type": "code",
   "execution_count": 2,
   "metadata": {},
   "outputs": [
    {
     "data": {
      "text/html": [
       "<div>\n",
       "<style scoped>\n",
       "    .dataframe tbody tr th:only-of-type {\n",
       "        vertical-align: middle;\n",
       "    }\n",
       "\n",
       "    .dataframe tbody tr th {\n",
       "        vertical-align: top;\n",
       "    }\n",
       "\n",
       "    .dataframe thead th {\n",
       "        text-align: right;\n",
       "    }\n",
       "</style>\n",
       "<table border=\"1\" class=\"dataframe\">\n",
       "  <thead>\n",
       "    <tr style=\"text-align: right;\">\n",
       "      <th></th>\n",
       "      <th>id</th>\n",
       "      <th>flag</th>\n",
       "      <th>title</th>\n",
       "      <th>content</th>\n",
       "    </tr>\n",
       "  </thead>\n",
       "  <tbody>\n",
       "    <tr>\n",
       "      <th>0</th>\n",
       "      <td>3701be69fdea4881874d073b8cc3bfdb</td>\n",
       "      <td>1</td>\n",
       "      <td>办理了ETC高速浪一下，一出门就遇到阿尔法，100万哪，老款的我坐过也开过，确实好车，但是没...</td>\n",
       "      <td>办理了ETC高速浪一下，一出门就遇到阿尔法，100万哪，老款的我坐过也开过，确实好车，但是没...</td>\n",
       "    </tr>\n",
       "    <tr>\n",
       "      <th>1</th>\n",
       "      <td>967b683e4742489fb4738eb7d5f0ae4e</td>\n",
       "      <td>0</td>\n",
       "      <td>秋介绍~</td>\n",
       "      <td>秋介绍~</td>\n",
       "    </tr>\n",
       "    <tr>\n",
       "      <th>2</th>\n",
       "      <td>f98f7ea52a9b460dbc7d32b4114b925b</td>\n",
       "      <td>1</td>\n",
       "      <td>\"精\"改埃尔法提车记！</td>\n",
       "      <td>因为手上的两地牌关系，一直都喜欢买跑车开，觉得用了两地牌在国内开，而且完善的赛道设施，...</td>\n",
       "    </tr>\n",
       "    <tr>\n",
       "      <th>3</th>\n",
       "      <td>8cce3056ad9b453996f22508cf5e1d28</td>\n",
       "      <td>0</td>\n",
       "      <td>?里有卖？怎么联系？</td>\n",
       "      <td>?里有卖？怎么联系？</td>\n",
       "    </tr>\n",
       "    <tr>\n",
       "      <th>4</th>\n",
       "      <td>0835ce6f7fcb4c7b96490b65f66a65f9</td>\n",
       "      <td>1</td>\n",
       "      <td>“宜”与“亦”之间的区别？这辆车可以回答</td>\n",
       "      <td>灵山清净，拈花一笑。没想到这次的试驾地竟是如此禅意：太湖...</td>\n",
       "    </tr>\n",
       "  </tbody>\n",
       "</table>\n",
       "</div>"
      ],
      "text/plain": [
       "                                 id  flag  \\\n",
       "0  3701be69fdea4881874d073b8cc3bfdb     1   \n",
       "1  967b683e4742489fb4738eb7d5f0ae4e     0   \n",
       "2  f98f7ea52a9b460dbc7d32b4114b925b     1   \n",
       "3  8cce3056ad9b453996f22508cf5e1d28     0   \n",
       "4  0835ce6f7fcb4c7b96490b65f66a65f9     1   \n",
       "\n",
       "                                               title  \\\n",
       "0  办理了ETC高速浪一下，一出门就遇到阿尔法，100万哪，老款的我坐过也开过，确实好车，但是没...   \n",
       "1                                               秋介绍~   \n",
       "2                                        \"精\"改埃尔法提车记！   \n",
       "3                                         ?里有卖？怎么联系？   \n",
       "4                               “宜”与“亦”之间的区别？这辆车可以回答   \n",
       "\n",
       "                                             content  \n",
       "0  办理了ETC高速浪一下，一出门就遇到阿尔法，100万哪，老款的我坐过也开过，确实好车，但是没...  \n",
       "1                                               秋介绍~  \n",
       "2   　　因为手上的两地牌关系，一直都喜欢买跑车开，觉得用了两地牌在国内开，而且完善的赛道设施，...  \n",
       "3                                         ?里有卖？怎么联系？  \n",
       "4                    灵山清净，拈花一笑。没想到这次的试驾地竟是如此禅意：太湖...  "
      ]
     },
     "execution_count": 2,
     "metadata": {},
     "output_type": "execute_result"
    }
   ],
   "source": [
    "train_file=os.path.join(root_path,'train.csv')\n",
    "data=pd.read_csv(train_file)\n",
    "data.head()"
   ]
  },
  {
   "cell_type": "code",
   "execution_count": 3,
   "metadata": {},
   "outputs": [
    {
     "data": {
      "text/plain": [
       "0    2985\n",
       "1    1008\n",
       "Name: flag, dtype: int64"
      ]
     },
     "execution_count": 3,
     "metadata": {},
     "output_type": "execute_result"
    }
   ],
   "source": [
    "data.flag.value_counts()"
   ]
  },
  {
   "cell_type": "code",
   "execution_count": null,
   "metadata": {},
   "outputs": [],
   "source": []
  }
 ],
 "metadata": {
  "kernelspec": {
   "display_name": "Python 3",
   "language": "python",
   "name": "python3"
  },
  "language_info": {
   "codemirror_mode": {
    "name": "ipython",
    "version": 3
   },
   "file_extension": ".py",
   "mimetype": "text/x-python",
   "name": "python",
   "nbconvert_exporter": "python",
   "pygments_lexer": "ipython3",
   "version": "3.6.4"
  }
 },
 "nbformat": 4,
 "nbformat_minor": 2
}
