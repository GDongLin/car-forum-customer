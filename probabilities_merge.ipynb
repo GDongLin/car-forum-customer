{
 "cells": [
  {
   "cell_type": "code",
   "execution_count": 1,
   "metadata": {},
   "outputs": [],
   "source": [
    "import os\n",
    "import pandas as pd"
   ]
  },
  {
   "cell_type": "code",
   "execution_count": 3,
   "metadata": {},
   "outputs": [],
   "source": [
    "root_path='./output'\n",
    "bert_file=os.path.join(root_path,'bert_probabilities.tsv')\n",
    "with open(bert_file,'r') as f:\n",
    "    lines=f.readlines()"
   ]
  },
  {
   "cell_type": "code",
   "execution_count": 6,
   "metadata": {},
   "outputs": [],
   "source": [
    "list_bert=[]\n",
    "for i in range(len(lines)):\n",
    "#     print(lines[i])\n",
    "    if(i>0):\n",
    "        list_bert.append(lines[i].strip())"
   ]
  },
  {
   "cell_type": "code",
   "execution_count": 7,
   "metadata": {},
   "outputs": [
    {
     "name": "stdout",
     "output_type": "stream",
     "text": [
      "['0.999985', '2.6386977e-06', '2.9301452e-06', '8.120689e-06', '0.00022160394']\n"
     ]
    }
   ],
   "source": [
    "print(list_bert[:5])"
   ]
  },
  {
   "cell_type": "code",
   "execution_count": 8,
   "metadata": {},
   "outputs": [],
   "source": [
    "root_path='./output'\n",
    "albert_file=os.path.join(root_path,'albert_probabilities.tsv')\n",
    "with open(albert_file,'r') as f:\n",
    "    lines=f.readlines()"
   ]
  },
  {
   "cell_type": "code",
   "execution_count": 9,
   "metadata": {},
   "outputs": [],
   "source": [
    "list_albert=[]\n",
    "for i in range(len(lines)):\n",
    "#     print(lines[i])\n",
    "    if(i>0):\n",
    "        list_albert.append(lines[i].strip())"
   ]
  },
  {
   "cell_type": "code",
   "execution_count": 10,
   "metadata": {},
   "outputs": [
    {
     "name": "stdout",
     "output_type": "stream",
     "text": [
      "['0.9981908', '1.8953659e-07', '1.77144e-07', '0.00010808388', '0.99999964']\n"
     ]
    }
   ],
   "source": [
    "print(list_albert[:5])"
   ]
  },
  {
   "cell_type": "code",
   "execution_count": 11,
   "metadata": {},
   "outputs": [],
   "source": [
    "list_results=[]\n",
    "for i in range(len(list_bert)):\n",
    "    res=0.5*float(list_bert[i])+0.5*float(list_albert[i])\n",
    "    if(res>0.5):\n",
    "        list_results.append(1)\n",
    "    else:\n",
    "        list_results.append(0)"
   ]
  },
  {
   "cell_type": "code",
   "execution_count": 12,
   "metadata": {},
   "outputs": [
    {
     "name": "stdout",
     "output_type": "stream",
     "text": [
      "[1, 0, 0, 0, 1]\n"
     ]
    }
   ],
   "source": [
    "print(list_results[:5])"
   ]
  },
  {
   "cell_type": "code",
   "execution_count": 13,
   "metadata": {},
   "outputs": [],
   "source": [
    "root_path='/media/data/CCF_data/car_forum_data'\n",
    "# root_path='/media/data/checkpoints/ucloud/bert'\n",
    "\n",
    "test_file=os.path.join(root_path,'test.csv')\n",
    "test_data=pd.read_csv(test_file)"
   ]
  },
  {
   "cell_type": "code",
   "execution_count": 16,
   "metadata": {},
   "outputs": [],
   "source": [
    "c={\"label\" : list_results}#将列表a，b转换成字典\n",
    "data=pd.DataFrame(c)#将字典转换成为数据框"
   ]
  },
  {
   "cell_type": "code",
   "execution_count": 17,
   "metadata": {},
   "outputs": [
    {
     "name": "stdout",
     "output_type": "stream",
     "text": [
      "(3993, 1)\n",
      "(3993, 3)\n"
     ]
    }
   ],
   "source": [
    "print(data.shape)\n",
    "print(test_data.shape)"
   ]
  },
  {
   "cell_type": "code",
   "execution_count": 18,
   "metadata": {},
   "outputs": [],
   "source": [
    "merge=pd.concat([test_data,data],axis=1)"
   ]
  },
  {
   "cell_type": "code",
   "execution_count": 20,
   "metadata": {},
   "outputs": [],
   "source": [
    "merge.to_csv(\"output/submission_bert_albert.csv\",columns=['id','label'],index=False)"
   ]
  },
  {
   "cell_type": "code",
   "execution_count": null,
   "metadata": {},
   "outputs": [],
   "source": []
  }
 ],
 "metadata": {
  "kernelspec": {
   "display_name": "Python 3",
   "language": "python",
   "name": "python3"
  },
  "language_info": {
   "codemirror_mode": {
    "name": "ipython",
    "version": 3
   },
   "file_extension": ".py",
   "mimetype": "text/x-python",
   "name": "python",
   "nbconvert_exporter": "python",
   "pygments_lexer": "ipython3",
   "version": "3.6.4"
  }
 },
 "nbformat": 4,
 "nbformat_minor": 2
}
