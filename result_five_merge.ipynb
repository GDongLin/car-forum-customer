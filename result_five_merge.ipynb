{
 "cells": [
  {
   "cell_type": "code",
   "execution_count": 22,
   "metadata": {},
   "outputs": [],
   "source": [
    "import os\n",
    "import pandas as pd"
   ]
  },
  {
   "cell_type": "code",
   "execution_count": 23,
   "metadata": {},
   "outputs": [
    {
     "name": "stdout",
     "output_type": "stream",
     "text": [
      "                                 id  label\n",
      "0  fb2f2659a15545a8bd54d543a6d09b63      0\n",
      "1  fc82f947e7674fbf92be4910afc147eb      0\n",
      "2  5b8e2c0aca1a4a8a9ac9416dafdea83f      0\n",
      "3  ea7cadf376fd494fb98e78f5a5306972      0\n",
      "4  2f3e53022a204242bd2623d69aac8353      0\n"
     ]
    }
   ],
   "source": [
    "root_path='./output'\n",
    "bert_file=os.path.join(root_path,'submission_bert_wwm.csv')\n",
    "bert_result=pd.read_csv(bert_file)\n",
    "print(bert_result.head())"
   ]
  },
  {
   "cell_type": "code",
   "execution_count": 24,
   "metadata": {},
   "outputs": [
    {
     "data": {
      "text/plain": [
       "0    3067\n",
       "1     926\n",
       "Name: label, dtype: int64"
      ]
     },
     "execution_count": 24,
     "metadata": {},
     "output_type": "execute_result"
    }
   ],
   "source": [
    "bert_result.label.value_counts()"
   ]
  },
  {
   "cell_type": "code",
   "execution_count": 25,
   "metadata": {},
   "outputs": [
    {
     "name": "stdout",
     "output_type": "stream",
     "text": [
      "                                 id  label\n",
      "0  fb2f2659a15545a8bd54d543a6d09b63      1\n",
      "1  fc82f947e7674fbf92be4910afc147eb      0\n",
      "2  5b8e2c0aca1a4a8a9ac9416dafdea83f      0\n",
      "3  ea7cadf376fd494fb98e78f5a5306972      0\n",
      "4  2f3e53022a204242bd2623d69aac8353      0\n"
     ]
    }
   ],
   "source": [
    "\n",
    "xlnet_file=os.path.join(root_path,'submission_xlnet.csv')\n",
    "xlnet_result=pd.read_csv(xlnet_file)\n",
    "print(xlnet_result.head())"
   ]
  },
  {
   "cell_type": "code",
   "execution_count": 26,
   "metadata": {},
   "outputs": [
    {
     "data": {
      "text/plain": [
       "0    3122\n",
       "1     871\n",
       "Name: label, dtype: int64"
      ]
     },
     "execution_count": 26,
     "metadata": {},
     "output_type": "execute_result"
    }
   ],
   "source": [
    "xlnet_result.label.value_counts()"
   ]
  },
  {
   "cell_type": "code",
   "execution_count": 27,
   "metadata": {},
   "outputs": [
    {
     "name": "stdout",
     "output_type": "stream",
     "text": [
      "                                 id  label\n",
      "0  fb2f2659a15545a8bd54d543a6d09b63      0\n",
      "1  fc82f947e7674fbf92be4910afc147eb      0\n",
      "2  5b8e2c0aca1a4a8a9ac9416dafdea83f      0\n",
      "3  ea7cadf376fd494fb98e78f5a5306972      0\n",
      "4  2f3e53022a204242bd2623d69aac8353      0\n"
     ]
    }
   ],
   "source": [
    "albert_file=os.path.join(root_path,'submission_albert_v2.csv')\n",
    "albert_result=pd.read_csv(albert_file)\n",
    "print(albert_result.head())"
   ]
  },
  {
   "cell_type": "code",
   "execution_count": 28,
   "metadata": {},
   "outputs": [
    {
     "data": {
      "text/plain": [
       "0    2955\n",
       "1    1038\n",
       "Name: label, dtype: int64"
      ]
     },
     "execution_count": 28,
     "metadata": {},
     "output_type": "execute_result"
    }
   ],
   "source": [
    "albert_result.label.value_counts()"
   ]
  },
  {
   "cell_type": "code",
   "execution_count": 29,
   "metadata": {},
   "outputs": [
    {
     "name": "stdout",
     "output_type": "stream",
     "text": [
      "                                 id  label\n",
      "0  fb2f2659a15545a8bd54d543a6d09b63      1\n",
      "1  fc82f947e7674fbf92be4910afc147eb      0\n",
      "2  5b8e2c0aca1a4a8a9ac9416dafdea83f      0\n",
      "3  ea7cadf376fd494fb98e78f5a5306972      0\n",
      "4  2f3e53022a204242bd2623d69aac8353      1\n"
     ]
    }
   ],
   "source": [
    "zen_file=os.path.join(root_path,'submission_ZEN_v1.csv')\n",
    "zen_result=pd.read_csv(zen_file)\n",
    "print(zen_result.head())"
   ]
  },
  {
   "cell_type": "code",
   "execution_count": 30,
   "metadata": {},
   "outputs": [
    {
     "data": {
      "text/plain": [
       "0    2952\n",
       "1    1041\n",
       "Name: label, dtype: int64"
      ]
     },
     "execution_count": 30,
     "metadata": {},
     "output_type": "execute_result"
    }
   ],
   "source": [
    "zen_result.label.value_counts()"
   ]
  },
  {
   "cell_type": "code",
   "execution_count": 31,
   "metadata": {},
   "outputs": [
    {
     "name": "stdout",
     "output_type": "stream",
     "text": [
      "                                 id  label\n",
      "0  fb2f2659a15545a8bd54d543a6d09b63      1\n",
      "1  fc82f947e7674fbf92be4910afc147eb      0\n",
      "2  5b8e2c0aca1a4a8a9ac9416dafdea83f      0\n",
      "3  ea7cadf376fd494fb98e78f5a5306972      0\n",
      "4  2f3e53022a204242bd2623d69aac8353      0\n"
     ]
    }
   ],
   "source": [
    "roberta_file=os.path.join(root_path,'submission_roberta.csv')\n",
    "roberta_result=pd.read_csv(roberta_file)\n",
    "print(roberta_result.head())"
   ]
  },
  {
   "cell_type": "code",
   "execution_count": 32,
   "metadata": {},
   "outputs": [
    {
     "data": {
      "text/plain": [
       "0    2968\n",
       "1    1025\n",
       "Name: label, dtype: int64"
      ]
     },
     "execution_count": 32,
     "metadata": {},
     "output_type": "execute_result"
    }
   ],
   "source": [
    "roberta_result.label.value_counts()"
   ]
  },
  {
   "cell_type": "code",
   "execution_count": 33,
   "metadata": {},
   "outputs": [
    {
     "name": "stdout",
     "output_type": "stream",
     "text": [
      "[0]\n"
     ]
    }
   ],
   "source": [
    "bert_data={}\n",
    "for indexs in bert_result.index:\n",
    "    filename=bert_result.loc[indexs].values[0]\n",
    "    predictions=bert_result.loc[indexs].values[1:]\n",
    "    bert_data[filename]=predictions\n",
    "print(bert_data['fb2f2659a15545a8bd54d543a6d09b63'])"
   ]
  },
  {
   "cell_type": "code",
   "execution_count": 34,
   "metadata": {},
   "outputs": [
    {
     "name": "stdout",
     "output_type": "stream",
     "text": [
      "[1]\n"
     ]
    }
   ],
   "source": [
    "xlnet_data={}\n",
    "for indexs in xlnet_result.index:\n",
    "    filename=xlnet_result.loc[indexs].values[0]\n",
    "    predictions=xlnet_result.loc[indexs].values[1:]\n",
    "    xlnet_data[filename]=predictions\n",
    "print(xlnet_data['fb2f2659a15545a8bd54d543a6d09b63'])"
   ]
  },
  {
   "cell_type": "code",
   "execution_count": 35,
   "metadata": {},
   "outputs": [
    {
     "name": "stdout",
     "output_type": "stream",
     "text": [
      "[0]\n"
     ]
    }
   ],
   "source": [
    "albert_data={}\n",
    "for indexs in albert_result.index:\n",
    "    filename=albert_result.loc[indexs].values[0]\n",
    "    predictions=albert_result.loc[indexs].values[1:]\n",
    "    albert_data[filename]=predictions\n",
    "print(albert_data['fb2f2659a15545a8bd54d543a6d09b63'])"
   ]
  },
  {
   "cell_type": "code",
   "execution_count": 36,
   "metadata": {},
   "outputs": [
    {
     "name": "stdout",
     "output_type": "stream",
     "text": [
      "[1]\n"
     ]
    }
   ],
   "source": [
    "zen_data={}\n",
    "for indexs in zen_result.index:\n",
    "    filename=zen_result.loc[indexs].values[0]\n",
    "    predictions=zen_result.loc[indexs].values[1:]\n",
    "    zen_data[filename]=predictions\n",
    "print(zen_data['fb2f2659a15545a8bd54d543a6d09b63'])"
   ]
  },
  {
   "cell_type": "code",
   "execution_count": 37,
   "metadata": {},
   "outputs": [
    {
     "name": "stdout",
     "output_type": "stream",
     "text": [
      "[1]\n"
     ]
    }
   ],
   "source": [
    "roberta_data={}\n",
    "for indexs in roberta_result.index:\n",
    "    filename=roberta_result.loc[indexs].values[0]\n",
    "    predictions=roberta_result.loc[indexs].values[1:]\n",
    "    roberta_data[filename]=predictions\n",
    "print(roberta_data['fb2f2659a15545a8bd54d543a6d09b63'])"
   ]
  },
  {
   "cell_type": "code",
   "execution_count": 38,
   "metadata": {},
   "outputs": [],
   "source": [
    "def get_counts(list_x):\n",
    "    count=0\n",
    "    for item in list_x:\n",
    "        if(item==1):\n",
    "            count+=1\n",
    "    return count"
   ]
  },
  {
   "cell_type": "code",
   "execution_count": 39,
   "metadata": {},
   "outputs": [],
   "source": [
    "result=[]\n",
    "result_analyse=[]\n",
    "for k,v in bert_data.items():\n",
    "    x1=v[0]\n",
    "    x2=xlnet_data[k][0]\n",
    "    x3=albert_data[k][0]\n",
    "    x4=zen_data[k][0]\n",
    "    x5=roberta_data[k][0]\n",
    "    list_x=[]\n",
    "    list_x.append(x1)\n",
    "    list_x.append(x2)\n",
    "    list_x.append(x3)\n",
    "    list_x.append(x4)\n",
    "    list_x.append(x5)\n",
    "    count=get_counts(list_x)\n",
    "    if(count>2):\n",
    "        result.append([k,1])\n",
    "    else:\n",
    "        result.append([k,0])\n",
    "    if(count!=0 and count !=5):\n",
    "        result_analyse.append([k,count])"
   ]
  },
  {
   "cell_type": "code",
   "execution_count": 40,
   "metadata": {},
   "outputs": [],
   "source": [
    "combine_results=os.path.join(root_path,'combine_five.csv')\n",
    "with open(combine_results, 'w') as f:\n",
    "    f.write('id,label\\n')\n",
    "    for item in result:\n",
    "        f.write(item[0]+','+str(item[1])+'\\n')"
   ]
  },
  {
   "cell_type": "code",
   "execution_count": 41,
   "metadata": {},
   "outputs": [
    {
     "name": "stdout",
     "output_type": "stream",
     "text": [
      "626\n",
      "[['fb2f2659a15545a8bd54d543a6d09b63', 3], ['2f3e53022a204242bd2623d69aac8353', 1], ['0f185235ef074eb8ac19dd4c325d68d3', 4], ['5f3e338754eb497c8da59906e5ef78e3', 4], ['3f2d4f85e8ad43949a342e9bce0cce0c', 1], ['bfa7532eefc24356945bb8cd8582a1ed', 4], ['ece607966da74a499d53a4b3fa670eb2', 4], ['ff27fd9c1f0946508f6044651e32b4f9', 4], ['31f65622557b4626ae610796ca55fa90', 3], ['f38914d2c6fd464ab01d4e3bb0c73d59', 1]]\n"
     ]
    }
   ],
   "source": [
    "print(len(result_analyse))\n",
    "print(result_analyse[:10])"
   ]
  },
  {
   "cell_type": "code",
   "execution_count": 42,
   "metadata": {},
   "outputs": [
    {
     "name": "stdout",
     "output_type": "stream",
     "text": [
      "193\n"
     ]
    }
   ],
   "source": [
    "cnt=0\n",
    "for item in result_analyse:\n",
    "    if(item[1]==1):\n",
    "        cnt+=1\n",
    "print(cnt)"
   ]
  },
  {
   "cell_type": "code",
   "execution_count": null,
   "metadata": {},
   "outputs": [],
   "source": []
  }
 ],
 "metadata": {
  "kernelspec": {
   "display_name": "Python 3",
   "language": "python",
   "name": "python3"
  },
  "language_info": {
   "codemirror_mode": {
    "name": "ipython",
    "version": 3
   },
   "file_extension": ".py",
   "mimetype": "text/x-python",
   "name": "python",
   "nbconvert_exporter": "python",
   "pygments_lexer": "ipython3",
   "version": "3.6.4"
  }
 },
 "nbformat": 4,
 "nbformat_minor": 2
}
